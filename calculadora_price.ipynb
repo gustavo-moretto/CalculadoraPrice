{
  "nbformat": 4,
  "nbformat_minor": 0,
  "metadata": {
    "colab": {
      "name": "calculadora_price.ipynb",
      "provenance": [],
      "collapsed_sections": []
    },
    "kernelspec": {
      "name": "python3",
      "display_name": "Python 3"
    },
    "language_info": {
      "name": "python"
    }
  },
  "cells": [
    {
      "cell_type": "code",
      "source": [
        "class Financeira:\n",
        "\n",
        "  import pandas as pd\n",
        "  import numpy as np\n",
        "\n",
        "  import seaborn as sns\n",
        "  import matplotlib.pyplot as plt  \n",
        "\n",
        "  def financiamento( i_ano: float, tempo: int, financiamento: float, acrescimo_amortizacao: float ):\n",
        "    import pandas as pd\n",
        "    pd.set_option('display.float_format', lambda x: '%.3f' % x)\n",
        "    import numpy as np    \n",
        "    import matplotlib.pyplot as plt    \n",
        "\n",
        "    # Verifica a validade dos dados inseridos na funcao\n",
        "    if i_ano < 0 or tempo < 0 or financiamento < 0 or acrescimo_amortizacao < 0:\n",
        "      print('Dados invalidos')\n",
        "      return None\n",
        "    \n",
        "    else:\n",
        "      # Conversao da taxa anual para taxa mensal\n",
        "      i_ano = i_ano/100\n",
        "      i_mes = pow(1+i_ano, 1/12)-1\n",
        "\n",
        "      # Nesta etapa, eh calculado o coeficiente de financiamento, que determina o valor de cada parcela\n",
        "      # Para determinar o valor de cada parcela, o CIF eh multiplicado pelo valor total do financiamento\n",
        "\n",
        "      # Por exemplo, para um financiamento de 240 meses, com taxa mensal de 1% e valor total de R$ 100.000,00\n",
        "      # O CIF eh igual a 0.01101 e o valor da parcela eh de R$ 1101,00     \n",
        "      cif = i_mes / (1 - (1 / pow(1 + i_mes, tempo)) )\n",
        "\n",
        "      # Nesta etapa, eh calculado o valor da parcela e o saldo devedor eh igualado ao valor total do financiamento\n",
        "      parcela = cif * financiamento\n",
        "\n",
        "      saldo_devedor = financiamento       \n",
        "\n",
        "      # Criacao de listas para auxiliar a criacao do dataframe com os dados do pagamento do financiamento\n",
        "      lista_juros = []\n",
        "\n",
        "      lista_amortizacao = []\n",
        "\n",
        "      soma_amortizacao = 0 \n",
        "      lista_soma_amortizacao = []\n",
        "\n",
        "      lista_saldo_devedor = [saldo_devedor]\n",
        "\n",
        "      soma_juros = 0\n",
        "      lista_soma_juros = []\n",
        "\n",
        "      lista_parcelas = []\n",
        "\n",
        "      # A partir do laco 'while' sao calculados os juros e o valor da amortizacao do mes\n",
        "      while True:      \n",
        "        # calculo do juros\n",
        "        juros = i_mes * saldo_devedor\n",
        "        # calculo da amortizacao  \n",
        "        amortizacao = parcela - juros + acrescimo_amortizacao\n",
        "        \n",
        "        # soma do quanto jah foi amortizado e do quanto jah foi pago de juros\n",
        "        soma_amortizacao += amortizacao  \n",
        "        soma_juros += juros\n",
        "        saldo_devedor -= amortizacao\n",
        "        parcela = round(financiamento * cif, 2)\n",
        "\n",
        "        # caso o saldo devedor ainda seja maior que zero, sao acrescidos os valores nas listas\n",
        "        # e o laco 'while' continua sendo executado\n",
        "        if saldo_devedor >= 0 or soma_amortizacao <= financiamento:\n",
        "          lista_juros.append(round(juros, 2))\n",
        "          lista_soma_juros.append(round(soma_juros, 2))\n",
        "          lista_amortizacao.append(round(amortizacao, 2))\n",
        "          lista_soma_amortizacao.append(round(soma_amortizacao, 2))\n",
        "          lista_saldo_devedor.append(round(saldo_devedor, 2))\n",
        "          lista_parcelas.append(parcela)\n",
        "\n",
        "        # caso o saldo devedor seja menor que zero, sao acrescidos os valores nas listas\n",
        "        # e o laco 'while' continua eh interrompido\n",
        "        # por fim, eh retornado um dataframe com os dados do financiamento\n",
        "        else:\n",
        "          lista_juros.append(round(juros, 2))\n",
        "          lista_soma_juros.append(round(soma_juros, 2))\n",
        "\n",
        "          # calculo da ultima amortizacao\n",
        "          amortizacao = amortizacao - (soma_amortizacao - financiamento)    \n",
        "          lista_amortizacao.append(round(amortizacao, 2))\n",
        "\n",
        "          soma_amortizacao = financiamento\n",
        "          lista_soma_amortizacao.append(round(soma_amortizacao, 2))\n",
        "          lista_saldo_devedor.append(round(saldo_devedor, 2))\n",
        "\n",
        "          parcela = juros + amortizacao\n",
        "          parcela = round(parcela, 2)\n",
        "          lista_parcelas.append(parcela)\n",
        "\n",
        "          # cria um dataframe utilizando as listas que foram criadas\n",
        "          df = pd.DataFrame(list(zip(lista_juros, lista_soma_juros, lista_amortizacao, lista_soma_amortizacao, lista_saldo_devedor, lista_parcelas)), \n",
        "                            columns = ['juros', 'soma_juros', \"amortizacao\", \"soma_amortizacao\", \"saldo_devedor\", \"parcelas\"])\n",
        "          return df         \n",
        "          break\n",
        "\n",
        "  def investimento(aporte, tempo, taxa_mes):\n",
        "    import pandas as pd\n",
        "    pd.set_option('display.float_format', lambda x: '%.3f' % x)\n",
        "    import matplotlib.pyplot as plt\n",
        "\n",
        "    # Verifica a validade dos dados inseridos na funcao\n",
        "    if aporte <= 0 or tempo < 0 or taxa_mes < 0:\n",
        "      print('Dados invalidos')\n",
        "      return None\n",
        "\n",
        "    else:\n",
        "      counter = 1\n",
        "      montante = aporte\n",
        "      lista_soma_juros = [0]\n",
        "      lista_juros_mes = [0]\n",
        "      lista_soma_aporte = [aporte]\n",
        "      lista_montante = [montante]    \n",
        "\n",
        "      while counter < tempo:\n",
        "        # Calcula o montante acumulado\n",
        "        montante = montante * (1 + taxa_mes/100) + aporte\n",
        "        lista_montante.append(montante)\n",
        "\n",
        "        # Calcula o total aportado\n",
        "        aporte_total = (counter + 1) * aporte\n",
        "        lista_soma_aporte.append(aporte_total)\n",
        "\n",
        "        # Calcula o juros acumulado sobre o investimento\n",
        "        soma_juros = montante - aporte * ( 1 + counter )\n",
        "        lista_soma_juros.append( soma_juros )\n",
        "\n",
        "        # Calcula o juros mensal sobre o investimento\n",
        "        juros_mes = lista_soma_juros[-1] - lista_soma_juros[-2]\n",
        "        lista_juros_mes.append(juros_mes)\n",
        "        counter += 1\n",
        "\n",
        "      df = pd.DataFrame(list(zip(lista_montante, lista_soma_juros, lista_juros_mes, lista_soma_aporte)), \n",
        "                              columns = [\"montante\", \"soma_juros\", \"juros_mes\", \"soma_aporte\"])\n",
        "            \n",
        "      return df"
      ],
      "metadata": {
        "id": "TM-pSbocQGtv"
      },
      "execution_count": null,
      "outputs": []
    },
    {
      "cell_type": "code",
      "source": [
        "calc = Financeira()"
      ],
      "metadata": {
        "id": "Btu6tO1AWDTZ"
      },
      "execution_count": null,
      "outputs": []
    },
    {
      "cell_type": "code",
      "source": [
        "df = calc.financiamento( i_ano=10, tempo=240, financiamento=300000, acrescimo_amortizacao=0 )\n",
        "df1 = calc.financiamento( i_ano=10, tempo=240, financiamento=300000, acrescimo_amortizacao=100 )\n",
        "df2 = calc.financiamento( i_ano=10, tempo=240, financiamento=300000, acrescimo_amortizacao=250 )\n",
        "df3 = calc.financiamento( i_ano=10, tempo=240, financiamento=300000, acrescimo_amortizacao=500 )\n",
        "df4 = calc.financiamento( i_ano=10, tempo=240, financiamento=300000, acrescimo_amortizacao=750 )\n",
        "df5 = calc.financiamento( i_ano=10, tempo=240, financiamento=300000, acrescimo_amortizacao=1000 )"
      ],
      "metadata": {
        "id": "84fCANCldPZW"
      },
      "execution_count": null,
      "outputs": []
    },
    {
      "cell_type": "code",
      "source": [
        "import matplotlib.pyplot as plt\n",
        "\n",
        "\n",
        "plt.bar(height = df['soma_juros'], x='Acréscimo de R$0')\n",
        "plt.bar(height = df1['soma_juros'], x='Acréscido de R$100')\n",
        "plt.bar(height = df2['soma_juros'], x='Acréscido de R$250')\n",
        "plt.bar(height = df3['soma_juros'], x='Acréscimo de R$500')\n",
        "plt.bar(height = df4['soma_juros'], x='Acréscido de R$750')\n",
        "plt.bar(height = df5['soma_juros'], x='Acréscido de R$1000');\n",
        "plt.title('Juros pagos antecipanda a dívida')\n",
        "plt.xticks(rotation=90);\n",
        "\n",
        "plt.savefig('montante_emprestimo.jpeg', bbox_inches='tight')"
      ],
      "metadata": {
        "colab": {
          "base_uri": "https://localhost:8080/",
          "height": 377
        },
        "id": "GgJM-bAaeBpd",
        "outputId": "7b806b2d-5558-4de2-e3d7-ccb4460679b3"
      },
      "execution_count": null,
      "outputs": [
        {
          "output_type": "display_data",
          "data": {
            "text/plain": [
              "<Figure size 432x288 with 1 Axes>"
            ],
            "image/png": "[encoded data removed]"
          },
          "metadata": {
            "needs_background": "light"
          }
        }
      ]
    },
    {
      "cell_type": "code",
      "source": [
        "plt.bar(height = len(df)/12, x='Acréscimo de R$0')\n",
        "plt.bar(height = len(df1)/12, x='Acréscido de R$100')\n",
        "plt.bar(height = len(df2)/12, x='Acréscido de R$250')\n",
        "plt.bar(height = len(df3)/12, x='Acréscimo de R$500')\n",
        "plt.bar(height = len(df4)/12, x='Acréscido de R$750')\n",
        "plt.bar(height = len(df5)/12, x='Acréscido de R$1000');\n",
        "plt.xticks(rotation=90);\n",
        "plt.title('Tempo (em anos) para quitar a dívida antecipando parcelas')\n",
        "plt.tight_layout()\n",
        "plt.savefig('tempo_emprestimo.jpeg', bbox_inches='tight')"
      ],
      "metadata": {
        "colab": {
          "base_uri": "https://localhost:8080/",
          "height": 297
        },
        "id": "ewCrpzhcWdi4",
        "outputId": "a611b7f6-07fe-4f1a-e873-ab177382ad14"
      },
      "execution_count": null,
      "outputs": [
        {
          "output_type": "display_data",
          "data": {
            "text/plain": [
              "<Figure size 432x288 with 1 Axes>"
            ],
            "image/png": "[encoded data removed]"
          },
          "metadata": {
            "needs_background": "light"
          }
        }
      ]
    }
  ]
}